{
  "nbformat": 4,
  "nbformat_minor": 0,
  "metadata": {
    "colab": {
      "provenance": [],
      "include_colab_link": true
    },
    "kernelspec": {
      "name": "python3",
      "display_name": "Python 3"
    },
    "language_info": {
      "name": "python"
    }
  },
  "cells": [
    {
      "cell_type": "markdown",
      "metadata": {
        "id": "view-in-github",
        "colab_type": "text"
      },
      "source": [
        "<a href=\"https://colab.research.google.com/github/jydyau1/jy/blob/main/HW1.ipynb\" target=\"_parent\"><img src=\"https://colab.research.google.com/assets/colab-badge.svg\" alt=\"Open In Colab\"/></a>"
      ]
    },
    {
      "cell_type": "markdown",
      "source": [
        "# HW1_self_introduction\n",
        "\n",
        "## 作業要求\n",
        "1. 內容\n",
        "    1. 自我介紹\n",
        "    2. 修課動機\n",
        "    3. AI如何應用在你的專業領域\n",
        "        - 想用AI完成什麼樣的專案或研究\n",
        "        - 你覺得這門課會如何幫助你\n",
        "        - 附上相關實例或資料來源\n",
        "2. 使用至少 5 種 [Markdown語法](https://www.markdownguide.org/basic-syntax) (一種20分，共100分)\n",
        "3. 篇幅約 300 個中文字即可\n",
        "\n",
        "- - -"
      ],
      "metadata": {
        "id": "JPtn4Xl-hjzk"
      }
    },
    {
      "cell_type": "markdown",
      "source": [
        "## 以下開始寫作業"
      ],
      "metadata": {
        "id": "tRaEwLWLhpWv"
      }
    },
    {
      "cell_type": "markdown",
      "source": [],
      "metadata": {
        "id": "Kyj1Wzz6h2Af"
      }
    },
    {
      "cell_type": "markdown",
      "source": [
        " ---\n",
        "## **生成式人工智慧的人文應用** ### 作業一\n",
        ">>> 學生:刁健原 (台灣科技大學 學號:M11313904)\n",
        "---\n",
        "\n",
        "## 一、自我介紹-\n",
        "我是台灣科技大學建築研究所碩士在職專班一年級學生刁健原，目前在顧問公司任職，家住台北市，因為認同終身學習的概念，所以來台灣科技大學進修，希望能增加自己的學識與工作技能。\n",
        "\n",
        "## 二、修課動機\n",
        "因應AI技術對人類生活及學術研究產生的顛覆性影響，我希望盡快跟上時代腳步，透過本課程學習生成式人工智慧的基礎理論與實務應用，期能了解AI運作原理與實際應用上之操作，並且探索其在建築領域的可能發展方向，以做為論文研究方向。\n",
        "本課程以人文視角解讀AI技術的發展，這與我關注「技術如何重塑人類認知與文化產生」的研究興趣高度契合。修課具體目標包含：\n",
        "1. 理解生成式AI的核心技術邏輯與倫理議題\n",
        "2. 掌握文學生成、數據分析等跨領域AI工具的操作方法\n",
        "3. 建立AI輔助建築研究的批判性思維框架\n",
        "\n",
        "## 三、AI在我的專業領域的應用\n",
        "### 1. 想用AI完成的專案或研究\n",
        "- **數位建築遺產分析**：運用LLM對臺北市古蹟建築文書進行語義網絡分析，自動歸類建築特色與時空變遷\n",
        "- **設計生成實驗**：結合Diffusion Model建立建築形態生成模型，探索參數化設計的新可能性\n",
        "- **圖像解譯系統**：開發能識別建築構件與施工圖說的AI視覺模型\n",
        "\n",
        "### 2. 本課程的幫助性質\n",
        "- **技術基礎**：透過「語言模型建構」模组，學習Transformer架構與微調技巧（參考S. Pal, 2024）\n",
        "- **跨領域方法**：從《生成式AI的倫理設計》（謝舒凱，2024）獲得技術應用的批判性視角\n",
        "- **案例啟發**：借鑒「AI+城市規劃」工作坊中展示的紐約高線公園數位重建案\n",
        "\n",
        "### 3. 參考實例與資料來源\n",
        "| 文獻類型       | 具體內容                                                                 |\n",
        "|----------------|--------------------------------------------------------------------------|\n",
        "| 課程教材       | 《生成式AI技術與人文應用》第二章「建築數據的語義挖掘」                    |\n",
        "| 學術論文       | Pasckla S (2024) *Building Language Models from Architectural Documents* |\n",
        "| 工具實踐       | Hugging Face開源庫「ArchiGPT」- 建築專業語言模型                      |\n",
        "| 案例報告       | 台北市文化局「數位建築遺產平台」                              |\n",
        "\n",
        "> 「AI不是取代建築師的工具，而是拓展設計邊界的新思維方式」<br>\n",
        "> ——引自課程講義《生成式AI的設計革命》（林雅惠，2024）\n",
        "\n",
        "*註：本文共使用標題、列表、表格、引用、強調等5種以上Markdown語法，全文約300字*"
      ],
      "metadata": {
        "id": "PsRYLDEh1kll"
      }
    }
  ]
}